{
 "cells": [
  {
   "cell_type": "markdown",
   "metadata": {},
   "source": [
    "# Inspect data and analyse "
   ]
  },
  {
   "cell_type": "code",
   "execution_count": null,
   "metadata": {},
   "outputs": [],
   "source": [
    "import pandas as pd\n",
    "\n",
    "# Load only the first 10,000 rows for quick exploration\n",
    "df = pd.read_csv('data/links.csv', nrows=10000)\n"
   ]
  },
  {
   "cell_type": "code",
   "execution_count": null,
   "metadata": {},
   "outputs": [],
   "source": [
    "\n",
    "# Get a Quick Overview of the Data\n",
    "\n",
    "print(df.info())  # Column data types and non-null values\n",
    "print(df.describe())  # Statistical summary of numerical columns\n",
    "print(df.head())  # First few rows\n",
    "print(df.sample(5))  # Random sample of 5 rows\n",
    "\n",
    "# Check for Missing Values\n",
    "\n",
    "print(df.isnull().sum())\n",
    "\n",
    "# Check for Duplicates\n",
    "\n",
    "print(df.duplicated().sum())"
   ]
  }
 ],
 "metadata": {
  "kernelspec": {
   "display_name": ".venv",
   "language": "python",
   "name": "python3"
  },
  "language_info": {
   "name": "python",
   "version": "3.12.1"
  }
 },
 "nbformat": 4,
 "nbformat_minor": 2
}
