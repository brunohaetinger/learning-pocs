{
 "cells": [
  {
   "cell_type": "markdown",
   "metadata": {},
   "source": [
    "# Inspect data and analyse "
   ]
  },
  {
   "cell_type": "code",
   "execution_count": 2,
   "metadata": {},
   "outputs": [],
   "source": [
    "import pandas as pd\n",
    "\n",
    "# Load only the first 10,000 rows for quick exploration\n",
    "df = pd.read_csv('data/links.csv', nrows=10000)\n"
   ]
  },
  {
   "cell_type": "code",
   "execution_count": 8,
   "metadata": {},
   "outputs": [
    {
     "name": "stdout",
     "output_type": "stream",
     "text": [
      "-- Info\n",
      "<class 'pandas.core.frame.DataFrame'>\n",
      "RangeIndex: 10000 entries, 0 to 9999\n",
      "Data columns (total 3 columns):\n",
      " #   Column   Non-Null Count  Dtype  \n",
      "---  ------   --------------  -----  \n",
      " 0   movieId  10000 non-null  int64  \n",
      " 1   imdbId   10000 non-null  int64  \n",
      " 2   tmdbId   9958 non-null   float64\n",
      "dtypes: float64(1), int64(2)\n",
      "memory usage: 234.5 KB\n",
      "None\n",
      "-- Describe\n",
      "            movieId         imdbId         tmdbId\n",
      "count  10000.000000   10000.000000    9958.000000\n",
      "mean    8244.718100  131210.010900   32249.920767\n",
      "std     9174.759942   90120.613996   41435.207831\n",
      "min        1.000000    4972.000000       2.000000\n",
      "25%     2583.750000   74553.750000   10307.500000\n",
      "50%     5094.500000  103048.000000   20321.500000\n",
      "75%     7822.250000  145773.750000   40884.000000\n",
      "max    32844.000000  500140.000000  445590.000000\n",
      "-- Head\n",
      "   movieId  imdbId   tmdbId\n",
      "0        1  114709    862.0\n",
      "1        2  113497   8844.0\n",
      "2        3  113228  15602.0\n",
      "3        4  114885  31357.0\n",
      "4        5  113041  11862.0\n",
      "-- Sample\n",
      "      movieId  imdbId   tmdbId\n",
      "2155     2239   73817  37916.0\n",
      "483       487  110353  22317.0\n",
      "6615     6724   70510  11293.0\n",
      "6534     6643   46438  18148.0\n",
      "5459     5555   83336  10725.0\n",
      "-- Check missing values\n",
      "movieId     0\n",
      "imdbId      0\n",
      "tmdbId     42\n",
      "dtype: int64\n",
      "-- Check duplicates\n",
      "0\n"
     ]
    }
   ],
   "source": [
    "\n",
    "# Get a Quick Overview of the Data\n",
    "\n",
    "\n",
    "print(\"-- Info\")\n",
    "print(df.info())  # Column data types and non-null values\n",
    "\n",
    "print(\"-- Describe\")\n",
    "print(df.describe())  # Statistical summary of numerical columns\n",
    "print(\"-- Head\")\n",
    "print(df.head())  # First few rows\n",
    "print(\"-- Sample\")\n",
    "print(df.sample(5))  # Random sample of 5 rows\n",
    "\n",
    "# Check for Missing Values\n",
    "\n",
    "print(\"-- Check missing values\")\n",
    "print(df.isnull().sum())\n",
    "\n",
    "# Check for Duplicates\n",
    "\n",
    "print(\"-- Check duplicates\")\n",
    "print(df.duplicated().sum())"
   ]
  }
 ],
 "metadata": {
  "kernelspec": {
   "display_name": ".venv",
   "language": "python",
   "name": "python3"
  },
  "language_info": {
   "codemirror_mode": {
    "name": "ipython",
    "version": 3
   },
   "file_extension": ".py",
   "mimetype": "text/x-python",
   "name": "python",
   "nbconvert_exporter": "python",
   "pygments_lexer": "ipython3",
   "version": "3.12.1"
  }
 },
 "nbformat": 4,
 "nbformat_minor": 2
}
